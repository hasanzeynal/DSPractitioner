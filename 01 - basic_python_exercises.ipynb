{
 "cells": [
  {
   "cell_type": "markdown",
   "id": "2ad0fdcd",
   "metadata": {},
   "source": [
    "1.Write a Python function to check whether a distinct pair of numbers whose product is odd present in a sequence of integer values"
   ]
  },
  {
   "cell_type": "code",
   "execution_count": 13,
   "id": "39d48052",
   "metadata": {},
   "outputs": [
    {
     "name": "stdout",
     "output_type": "stream",
     "text": [
      "[2, 3, 4, 6, 7] True\n",
      "[2, 4, 10, 14] False\n",
      "[1, 2, 3, 4, 5, 6, 7, 0] False\n"
     ]
    }
   ],
   "source": [
    "def odd_product(nums):\n",
    "    for i in range(len(nums)):\n",
    "        for j in range(len(nums)):\n",
    "            if i != j:\n",
    "                product =nums[i] * nums[j]\n",
    "                if product & 1:\n",
    "                    return True\n",
    "    return False\n",
    "list1 = [2,3,4,6,7]\n",
    "list2 = [2,4,10,14]\n",
    "list3 = [1,2,3,4,5,6,7,0]\n",
    "\n",
    "print(list1,odd_product(list1))\n",
    "print(list2,odd_product(list2))\n",
    "print(list3,odd_product(list2))\n",
    "                \n",
    "        "
   ]
  },
  {
   "cell_type": "markdown",
   "id": "04efbde1",
   "metadata": {},
   "source": [
    "2.Write a Python function that takes a positive integer and returns the sum of the cube of all the positive integers smaller than the specified number"
   ]
  },
  {
   "cell_type": "code",
   "execution_count": 32,
   "id": "0fb4810d",
   "metadata": {},
   "outputs": [
    {
     "name": "stdout",
     "output_type": "stream",
     "text": [
      "Please,Enter your number:4\n",
      "36\n"
     ]
    }
   ],
   "source": [
    "total = 0\n",
    "number = 0\n",
    "number = int(input('Please,Enter your number:'))\n",
    "number =  number - 1\n",
    "while number > 0:\n",
    "    total =total + number* number * number\n",
    "    number = number - 1\n",
    "print(total)"
   ]
  },
  {
   "cell_type": "markdown",
   "id": "60800352",
   "metadata": {},
   "source": [
    "3.Write a Python function to find the maximum and minimum numbers from a sequence of numbers.Don't use build-in Functions"
   ]
  },
  {
   "cell_type": "code",
   "execution_count": 2,
   "id": "50976d37",
   "metadata": {},
   "outputs": [
    {
     "data": {
      "text/plain": [
       "(2, 6)"
      ]
     },
     "execution_count": 2,
     "metadata": {},
     "output_type": "execute_result"
    }
   ],
   "source": [
    "def max_min(data):\n",
    "    minimum = data[0]\n",
    "    maximum = data[0]\n",
    "    for item in data:\n",
    "        if item < minimum:\n",
    "            minimum = item\n",
    "        elif item > maximum:\n",
    "            maximum = item\n",
    "    return minimum,maximum\n",
    "max_min([4,2,3,4,5,6])"
   ]
  },
  {
   "cell_type": "markdown",
   "id": "6a541719",
   "metadata": {},
   "source": [
    "# let's look at another example"
   ]
  },
  {
   "cell_type": "code",
   "execution_count": 63,
   "id": "80c31096",
   "metadata": {},
   "outputs": [],
   "source": [
    "list1 = [4,3,5,5,2,4,9,-3]"
   ]
  },
  {
   "cell_type": "code",
   "execution_count": 64,
   "id": "ddf8d808",
   "metadata": {},
   "outputs": [
    {
     "name": "stdout",
     "output_type": "stream",
     "text": [
      "Your maximum value is 9\n",
      "Your minimum value is -3\n"
     ]
    }
   ],
   "source": [
    "minEded = list1[0]\n",
    "maxEded = list1[0]\n",
    "for item in list1:   \n",
    "    if item < minEded:\n",
    "        minEded = item\n",
    "    elif item > maxEded:\n",
    "        maxEded = item\n",
    "print(f\"Your maximum value is {maxEded}\")\n",
    "print(f\"Your minimum value is {minEded}\")\n",
    "          "
   ]
  },
  {
   "cell_type": "markdown",
   "id": "4a5c6483",
   "metadata": {},
   "source": [
    "4.Write a Python function to check whether a number is divisible by another number. Accept two integers values form the user"
   ]
  },
  {
   "cell_type": "code",
   "execution_count": 30,
   "id": "00d131bc",
   "metadata": {},
   "outputs": [
    {
     "name": "stdout",
     "output_type": "stream",
     "text": [
      "Please,Enter your first number:3\n",
      "Please,Enter your second number:1.6\n"
     ]
    },
    {
     "data": {
      "text/plain": [
       "False"
      ]
     },
     "execution_count": 30,
     "metadata": {},
     "output_type": "execute_result"
    }
   ],
   "source": [
    "def check_divisible():\n",
    "    num1 = float(input('Please,Enter your first number:'))\n",
    "    num2 = float(input('Please,Enter your second number:'))\n",
    "\n",
    "    if num1 % num2 == 0 or num2 % num1 == 0:\n",
    "        return True\n",
    "    else:\n",
    "        return False\n",
    "check_divisible()  "
   ]
  },
  {
   "cell_type": "markdown",
   "id": "e4151976",
   "metadata": {},
   "source": [
    "5.Write a Python program to extract single key-value pair of a dictionary in variables"
   ]
  },
  {
   "cell_type": "code",
   "execution_count": 76,
   "id": "02fd1559",
   "metadata": {},
   "outputs": [],
   "source": [
    "my_dict = {1 : 'Hasan',2 : 'Maqa',3 : 'Marat'} "
   ]
  },
  {
   "cell_type": "code",
   "execution_count": 74,
   "id": "35eee4e4",
   "metadata": {},
   "outputs": [
    {
     "name": "stdout",
     "output_type": "stream",
     "text": [
      "1 Hasan\n",
      "2 Maqa\n",
      "3 Marat\n"
     ]
    }
   ],
   "source": [
    "for key,value in my_dict.items():\n",
    "    print(key,value)"
   ]
  },
  {
   "cell_type": "markdown",
   "id": "899ed378",
   "metadata": {},
   "source": [
    "6.Write a Python program to input two integers in a single line"
   ]
  },
  {
   "cell_type": "code",
   "execution_count": 81,
   "id": "f88b0b9d",
   "metadata": {},
   "outputs": [
    {
     "name": "stdout",
     "output_type": "stream",
     "text": [
      "Please,Enter your numbers:\n",
      "1 2\n",
      "Your numbers are:(1, 2)\n"
     ]
    }
   ],
   "source": [
    "print('Please,Enter your numbers:')\n",
    "x , y = map(int,input().split())\n",
    "print(f'Your numbers are:{x,y}')"
   ]
  },
  {
   "cell_type": "markdown",
   "id": "71a60624",
   "metadata": {},
   "source": [
    "7.Write a python program to convert decimal to hexadecimal"
   ]
  },
  {
   "cell_type": "code",
   "execution_count": 65,
   "id": "b6bfb390",
   "metadata": {},
   "outputs": [
    {
     "name": "stdout",
     "output_type": "stream",
     "text": [
      "Dechimal numbers: [0, 15, 30, 55, 355, 1234, 8, 11256]\n",
      "\n",
      "Hexadechimal numbers of the said dechimal numbers:\n",
      "['0', 'F', '1E', '37', '163', '4D2', '8', '2BF8']\n"
     ]
    }
   ],
   "source": [
    "def decimal_toHex(n):\n",
    "    x = (n % 16)\n",
    "    ch = ''\n",
    "    if (x < 10):\n",
    "        ch = x\n",
    "    if (x == 10):\n",
    "        ch = 'A'\n",
    "    if (x == 11):\n",
    "        ch == 'B'\n",
    "    if (x == 12):\n",
    "        ch = 'C'\n",
    "    if (x == 13):\n",
    "        ch == 'D'\n",
    "    if (x == 14):\n",
    "        ch == \"E\"\n",
    "    if (x == 15):\n",
    "        ch == F\n",
    "    if (x - n != 0):\n",
    "        return decimal_toHex(n // 16) + str(ch)\n",
    "    else:\n",
    "        return str(ch)\n",
    "dechimal_nums = [0,15,30,55,355,1234,8,11256]\n",
    "print(f\"Dechimal numbers: {dechimal_nums}\")\n",
    "print(\"\\nHexadechimal numbers of the said dechimal numbers:\")\n",
    "print([dechimal_to_Hex(x) for x in dechimal_nums])"
   ]
  },
  {
   "cell_type": "markdown",
   "id": "7daebae4",
   "metadata": {},
   "source": [
    "8.Write a Python program to convert an integer to binary keep leading zeros"
   ]
  },
  {
   "cell_type": "code",
   "execution_count": 55,
   "id": "8d01b201",
   "metadata": {},
   "outputs": [],
   "source": [
    "x = 14"
   ]
  },
  {
   "cell_type": "code",
   "execution_count": 56,
   "id": "7394d02b",
   "metadata": {},
   "outputs": [
    {
     "name": "stdout",
     "output_type": "stream",
     "text": [
      "00001110\n"
     ]
    }
   ],
   "source": [
    "print(format(x,'08b'))"
   ]
  },
  {
   "cell_type": "code",
   "execution_count": 57,
   "id": "1d8e76ed",
   "metadata": {},
   "outputs": [],
   "source": [
    "y =20"
   ]
  },
  {
   "cell_type": "code",
   "execution_count": 58,
   "id": "9d36c375",
   "metadata": {},
   "outputs": [
    {
     "name": "stdout",
     "output_type": "stream",
     "text": [
      "0000000000010100\n"
     ]
    }
   ],
   "source": [
    "print(format(y,'016b'))"
   ]
  },
  {
   "cell_type": "markdown",
   "id": "afd9092a",
   "metadata": {},
   "source": [
    "9.Write a Python program to valid a IP address."
   ]
  },
  {
   "cell_type": "code",
   "execution_count": 54,
   "id": "8dddcb12",
   "metadata": {},
   "outputs": [
    {
     "name": "stdout",
     "output_type": "stream",
     "text": [
      "Valid IP\n",
      "Valid IP\n",
      "Invalid IP\n"
     ]
    }
   ],
   "source": [
    "import socket\n",
    "def check_IP(adrs):\n",
    "    try:       \n",
    "        socket.inet_aton(adrs) \n",
    "        print('Valid IP')\n",
    "    except socket.error:\n",
    "        print('Invalid IP')\n",
    "check_IP('1234')\n",
    "check_IP('123455555')\n",
    "check_IP('Haso')"
   ]
  },
  {
   "cell_type": "markdown",
   "id": "84bf9bcf",
   "metadata": {},
   "source": [
    "10.Write a Python program to convert true to 1 and false to 0."
   ]
  },
  {
   "cell_type": "code",
   "execution_count": 44,
   "id": "0b35ea1e",
   "metadata": {},
   "outputs": [],
   "source": [
    "x = int(True)"
   ]
  },
  {
   "cell_type": "code",
   "execution_count": 45,
   "id": "a3a2c480",
   "metadata": {},
   "outputs": [
    {
     "name": "stdout",
     "output_type": "stream",
     "text": [
      "1\n"
     ]
    }
   ],
   "source": [
    "print(x)"
   ]
  },
  {
   "cell_type": "code",
   "execution_count": 46,
   "id": "afcdfa73",
   "metadata": {},
   "outputs": [],
   "source": [
    "x = int(False)"
   ]
  },
  {
   "cell_type": "code",
   "execution_count": 47,
   "id": "d3f79152",
   "metadata": {},
   "outputs": [
    {
     "name": "stdout",
     "output_type": "stream",
     "text": [
      "0\n"
     ]
    }
   ],
   "source": [
    "print(x)"
   ]
  }
 ],
 "metadata": {
  "kernelspec": {
   "display_name": "Python 3 (ipykernel)",
   "language": "python",
   "name": "python3"
  },
  "language_info": {
   "codemirror_mode": {
    "name": "ipython",
    "version": 3
   },
   "file_extension": ".py",
   "mimetype": "text/x-python",
   "name": "python",
   "nbconvert_exporter": "python",
   "pygments_lexer": "ipython3",
   "version": "3.9.12"
  }
 },
 "nbformat": 4,
 "nbformat_minor": 5
}
