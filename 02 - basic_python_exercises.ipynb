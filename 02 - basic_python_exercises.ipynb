{
 "cells": [
  {
   "cell_type": "markdown",
   "id": "9fd7c26d",
   "metadata": {},
   "source": [
    "1.Write a Python program to display the current date and time."
   ]
  },
  {
   "cell_type": "code",
   "execution_count": 1,
   "id": "f840136d",
   "metadata": {},
   "outputs": [],
   "source": [
    "import datetime"
   ]
  },
  {
   "cell_type": "code",
   "execution_count": 4,
   "id": "a9aa9263",
   "metadata": {},
   "outputs": [
    {
     "name": "stdout",
     "output_type": "stream",
     "text": [
      "2022-07-13 18:35:35.936713\n"
     ]
    }
   ],
   "source": [
    "now = datetime.datetime.now()\n",
    "print(now)"
   ]
  },
  {
   "cell_type": "markdown",
   "id": "85a4aac5",
   "metadata": {},
   "source": [
    "2.Write a Python program which accepts the radius of a circle from the user and compute the area"
   ]
  },
  {
   "cell_type": "code",
   "execution_count": 8,
   "id": "3bce40dc",
   "metadata": {},
   "outputs": [
    {
     "name": "stdout",
     "output_type": "stream",
     "text": [
      "Please,Specify the radius:1.1\n",
      "Your circle's area is 3.8013271108436504\n"
     ]
    }
   ],
   "source": [
    "from math import pi\n",
    "r = float(input('Please,Specify the radius:'))\n",
    "print(f\"Your circle's area is {r*r * pi}\")"
   ]
  },
  {
   "cell_type": "markdown",
   "id": "1364840c",
   "metadata": {},
   "source": [
    "3.Write a Python program which accepts the user's first and last name and print them in reverse order with a space between them."
   ]
  },
  {
   "cell_type": "code",
   "execution_count": 10,
   "id": "a61116ee",
   "metadata": {},
   "outputs": [
    {
     "name": "stdout",
     "output_type": "stream",
     "text": [
      "Please,Enter your name:Hasan\n",
      "Please,Enter your surname:Zeynalov\n",
      "Zeynalov Hasan\n"
     ]
    }
   ],
   "source": [
    "name = input('Please,Enter your name:')\n",
    "surname = input('Please,Enter your surname:')\n",
    "print(surname + \" \" + name)"
   ]
  },
  {
   "cell_type": "markdown",
   "id": "2d1b34fc",
   "metadata": {},
   "source": [
    "4.Write a Python program which accepts a sequence of comma-separated numbers from user and generate a list and a tuple with those numbers"
   ]
  },
  {
   "cell_type": "code",
   "execution_count": 16,
   "id": "3ad0e3f9",
   "metadata": {},
   "outputs": [
    {
     "name": "stdout",
     "output_type": "stream",
     "text": [
      "Inpur your values with comma:1,2,4,Hasan,-9.8,0\n",
      "Your list is ['1', '2', '4', 'Hasan', '-9.8', '0']\n",
      "Your tuple is ['1', '2', '4', 'Hasan', '-9.8', '0']\n"
     ]
    }
   ],
   "source": [
    "values = input('Inpur your values with comma:')\n",
    "print(f\"Your list is {list(values.split(','))}\")\n",
    "print(f\"Your tuple is {list(values.split(','))}\")"
   ]
  },
  {
   "cell_type": "markdown",
   "id": "62344114",
   "metadata": {},
   "source": [
    "5.Write a Python program to print the calendar of a given month and year.\n",
    "Note : Use 'calendar' module."
   ]
  },
  {
   "cell_type": "code",
   "execution_count": 18,
   "id": "7d65be4d",
   "metadata": {},
   "outputs": [
    {
     "name": "stdout",
     "output_type": "stream",
     "text": [
      "Input the year:2001\n",
      "Input the month:4\n",
      "     April 2001\n",
      "Mo Tu We Th Fr Sa Su\n",
      "                   1\n",
      " 2  3  4  5  6  7  8\n",
      " 9 10 11 12 13 14 15\n",
      "16 17 18 19 20 21 22\n",
      "23 24 25 26 27 28 29\n",
      "30\n",
      "\n"
     ]
    }
   ],
   "source": [
    "import calendar\n",
    "y = int(input('Input the year:'))\n",
    "m = int(input('Input the month:'))\n",
    "print(calendar.month(y,m))"
   ]
  },
  {
   "cell_type": "markdown",
   "id": "36504b74",
   "metadata": {},
   "source": [
    "6.Write a Python program to calculate number of days between two dates."
   ]
  },
  {
   "cell_type": "code",
   "execution_count": 42,
   "id": "d5beff87",
   "metadata": {},
   "outputs": [
    {
     "name": "stdout",
     "output_type": "stream",
     "text": [
      "Your result is 2968\n"
     ]
    }
   ],
   "source": [
    "from datetime import date\n",
    "fdate = date(2021,12,13)\n",
    "sdate = date(2013,10,28)\n",
    "delta = fdate - sdate\n",
    "print(f\"Your result is {delta.days}\")"
   ]
  },
  {
   "cell_type": "markdown",
   "id": "c460c8f7",
   "metadata": {},
   "source": [
    "7.Write a Python program to calculate the sum of three given numbers, if the values are equal then return three times of their sum."
   ]
  },
  {
   "cell_type": "code",
   "execution_count": 51,
   "id": "2925773f",
   "metadata": {},
   "outputs": [
    {
     "name": "stdout",
     "output_type": "stream",
     "text": [
      "13\n",
      "27\n"
     ]
    }
   ],
   "source": [
    "def sumNums(a,b,c):\n",
    "    sum = 0\n",
    "    if a == b == c:\n",
    "        print((a+b+c)*3)\n",
    "    else:\n",
    "        print(a+b+c)      \n",
    "sumNums(2,4,7)\n",
    "sumNums(3,3,3)"
   ]
  },
  {
   "cell_type": "markdown",
   "id": "e359b9bf",
   "metadata": {},
   "source": [
    "8.Write a Python program to get a new string from a given string where \"Is\" has been added to the front. If the given string already begins with \"Is\" then return the string unchanged"
   ]
  },
  {
   "cell_type": "code",
   "execution_count": 73,
   "id": "69dc15b3",
   "metadata": {},
   "outputs": [
    {
     "name": "stdout",
     "output_type": "stream",
     "text": [
      "The string unchanged!\n",
      "isNobody is not like you!\n"
     ]
    }
   ],
   "source": [
    " def checkStr(str):\n",
    "        if len(str) >=2 and str[:2] == 'is':\n",
    "            return 'The string unchanged!'\n",
    "        return 'is' + str\n",
    "print(checkStr('is that yours?'))\n",
    "print(checkStr('Nobody is not like you!'))"
   ]
  },
  {
   "cell_type": "markdown",
   "id": "d8ed731d",
   "metadata": {},
   "source": [
    "9.Write a Python program to get a string which is n (non-negative integer) copies of a given string."
   ]
  },
  {
   "cell_type": "code",
   "execution_count": 76,
   "id": "b4708696",
   "metadata": {},
   "outputs": [
    {
     "name": "stdout",
     "output_type": "stream",
     "text": [
      " HasanHasanHasanHasan\n",
      " .01.01.01.01.01.01.01\n"
     ]
    }
   ],
   "source": [
    "def largerStr(str,n):\n",
    "    result = ' '\n",
    "    for item in range(n):\n",
    "        result =result + str\n",
    "    return result\n",
    "print(largerStr('Hasan',4))\n",
    "print(largerStr('.01',7))"
   ]
  },
  {
   "cell_type": "markdown",
   "id": "9dc72dca",
   "metadata": {},
   "source": [
    "10.Write a Python program to find whether a given number (accept from the user) is even or odd, print out an appropriate message to the user"
   ]
  },
  {
   "cell_type": "code",
   "execution_count": 4,
   "id": "4f510556",
   "metadata": {},
   "outputs": [
    {
     "name": "stdout",
     "output_type": "stream",
     "text": [
      "Your number is odd!\n",
      "Your number is even!\n",
      "Your number is even!\n",
      "Your number is odd!\n",
      "Plese,Enter only exact numbers!\n"
     ]
    }
   ],
   "source": [
    "def checkNumber(a):\n",
    "    try:\n",
    "        if a & 1:\n",
    "            print('Your number is odd!')\n",
    "        else:\n",
    "            print('Your number is even!')\n",
    "    except:\n",
    "        print('Plese,Enter only exact numbers!')\n",
    "checkNumber(5)\n",
    "checkNumber(4)\n",
    "checkNumber(0)\n",
    "checkNumber(-3)\n",
    "checkNumber('Hasan!')"
   ]
  }
 ],
 "metadata": {
  "kernelspec": {
   "display_name": "Python 3 (ipykernel)",
   "language": "python",
   "name": "python3"
  },
  "language_info": {
   "codemirror_mode": {
    "name": "ipython",
    "version": 3
   },
   "file_extension": ".py",
   "mimetype": "text/x-python",
   "name": "python",
   "nbconvert_exporter": "python",
   "pygments_lexer": "ipython3",
   "version": "3.9.12"
  }
 },
 "nbformat": 4,
 "nbformat_minor": 5
}
