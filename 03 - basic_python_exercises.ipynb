{
 "cells": [
  {
   "cell_type": "markdown",
   "id": "71ef64f3",
   "metadata": {},
   "source": [
    "1.Write a Python program to count the number 4 in a given list"
   ]
  },
  {
   "cell_type": "code",
   "execution_count": 35,
   "id": "1ddede00",
   "metadata": {},
   "outputs": [],
   "source": [
    "givenStr = '4123French movies,LA,OK4042'"
   ]
  },
  {
   "cell_type": "code",
   "execution_count": 47,
   "id": "b7327379",
   "metadata": {},
   "outputs": [
    {
     "data": {
      "text/plain": [
       "3"
      ]
     },
     "execution_count": 47,
     "metadata": {},
     "output_type": "execute_result"
    }
   ],
   "source": [
    "tuple(filter(lambda item:item if item == '4' else None,givenStr)).count('4')"
   ]
  },
  {
   "cell_type": "markdown",
   "id": "fb02a756",
   "metadata": {},
   "source": [
    "# Let's look at another examples!"
   ]
  },
  {
   "cell_type": "code",
   "execution_count": 51,
   "id": "5d6af961",
   "metadata": {},
   "outputs": [
    {
     "name": "stdout",
     "output_type": "stream",
     "text": [
      "Your result is 2\n"
     ]
    }
   ],
   "source": [
    "def countFour(my_list):\n",
    "    count = 0\n",
    "    for item in my_list:\n",
    "        if item == 4:\n",
    "            count += 1\n",
    "    print(f\"Your result is {count}\")\n",
    "countFour([1,2,4,5,4,9,7])"
   ]
  },
  {
   "cell_type": "markdown",
   "id": "70c307b7",
   "metadata": {},
   "source": [
    "2.Write a Python program to get the n (non-negative integer) copies of the first 2 characters of a given string. Return the n copies of the whole string if the length is less than 2."
   ]
  },
  {
   "cell_type": "code",
   "execution_count": 59,
   "id": "10e79511",
   "metadata": {},
   "outputs": [
    {
     "name": "stdout",
     "output_type": "stream",
     "text": [
      "ababab\n",
      "a\n",
      "HaHaHaHaHa\n"
     ]
    }
   ],
   "source": [
    "def copiesStr(my_str,n):\n",
    "    if len(my_str) >= 2:\n",
    "        return my_str[:2] * n\n",
    "    return my_str\n",
    "print(copiesStr('abs',3))\n",
    "print(copiesStr('a',5))\n",
    "print(copiesStr('Hasannnnn!',5))"
   ]
  },
  {
   "cell_type": "markdown",
   "id": "a3db3c3c",
   "metadata": {},
   "source": [
    "# let's look at another example"
   ]
  },
  {
   "cell_type": "code",
   "execution_count": 68,
   "id": "99a386f3",
   "metadata": {},
   "outputs": [
    {
     "name": "stdout",
     "output_type": "stream",
     "text": [
      "MaMaMa\n",
      "None\n",
      "33333\n",
      "None\n",
      "-H-H-H-H-H\n",
      "None\n"
     ]
    }
   ],
   "source": [
    "def copiesStr(my_str,n):\n",
    "    result = ''\n",
    "    if len(my_str) >= 2:\n",
    "        for item in range(n):\n",
    "            result = result + my_str[:2]\n",
    "        print(result)\n",
    "    else:\n",
    "        print(my_str * n)\n",
    "print(copiesStr('Mamed',3))\n",
    "print(copiesStr('3',5))\n",
    "print(copiesStr('-Hasannnnn!',5))"
   ]
  },
  {
   "cell_type": "markdown",
   "id": "cdb8bd1f",
   "metadata": {},
   "source": [
    "3.Write a Python program to check whether a specified value is contained in a group of values."
   ]
  },
  {
   "cell_type": "code",
   "execution_count": 72,
   "id": "f61c5c4a",
   "metadata": {},
   "outputs": [
    {
     "name": "stdout",
     "output_type": "stream",
     "text": [
      "True\n",
      "False\n"
     ]
    }
   ],
   "source": [
    "def checkValue(my_list,value):\n",
    "    if value in my_list:\n",
    "        return True\n",
    "    else:\n",
    "        return False\n",
    "print(checkValue([1,2,3,4],1))\n",
    "print(checkValue([3,6,9,10],-10))"
   ]
  },
  {
   "cell_type": "markdown",
   "id": "6e4e029f",
   "metadata": {},
   "source": [
    "4.Write a Python program to create a histogram from a given list of integers"
   ]
  },
  {
   "cell_type": "code",
   "execution_count": 78,
   "id": "16406ad6",
   "metadata": {},
   "outputs": [
    {
     "name": "stdout",
     "output_type": "stream",
     "text": [
      "*\n",
      "**\n",
      "***\n",
      "\n",
      "******\n",
      "**\n"
     ]
    }
   ],
   "source": [
    "def histogram(my_list):\n",
    "    for item in my_list:\n",
    "        item = item * '*'\n",
    "        print(item)       \n",
    "histogram([1,2,3,0,6,2,])"
   ]
  },
  {
   "cell_type": "markdown",
   "id": "f7605758",
   "metadata": {},
   "source": [
    "5.Write a Python program to concatenate all elements in a list into a string and return it."
   ]
  },
  {
   "cell_type": "code",
   "execution_count": 102,
   "id": "db29d06b",
   "metadata": {},
   "outputs": [
    {
     "ename": "TypeError",
     "evalue": "'str' object is not callable",
     "output_type": "error",
     "traceback": [
      "\u001b[1;31m---------------------------------------------------------------------------\u001b[0m",
      "\u001b[1;31mTypeError\u001b[0m                                 Traceback (most recent call last)",
      "Input \u001b[1;32mIn [102]\u001b[0m, in \u001b[0;36m<cell line: 6>\u001b[1;34m()\u001b[0m\n\u001b[0;32m      3\u001b[0m     \u001b[38;5;28;01mfor\u001b[39;00m item \u001b[38;5;129;01min\u001b[39;00m my_list:\n\u001b[0;32m      4\u001b[0m         result \u001b[38;5;241m+\u001b[39m\u001b[38;5;241m=\u001b[39m \u001b[38;5;28mstr\u001b[39m(item)\n\u001b[1;32m----> 6\u001b[0m \u001b[43mconcatenateElements\u001b[49m\u001b[43m(\u001b[49m\u001b[43m[\u001b[49m\u001b[38;5;241;43m1\u001b[39;49m\u001b[43m,\u001b[49m\u001b[38;5;241;43m2\u001b[39;49m\u001b[43m,\u001b[49m\u001b[38;5;241;43m3\u001b[39;49m\u001b[43m,\u001b[49m\u001b[38;5;241;43m4\u001b[39;49m\u001b[43m]\u001b[49m\u001b[43m)\u001b[49m\n",
      "Input \u001b[1;32mIn [102]\u001b[0m, in \u001b[0;36mconcatenateElements\u001b[1;34m(my_list)\u001b[0m\n\u001b[0;32m      2\u001b[0m result \u001b[38;5;241m=\u001b[39m\u001b[38;5;124m'\u001b[39m\u001b[38;5;124m'\u001b[39m\n\u001b[0;32m      3\u001b[0m \u001b[38;5;28;01mfor\u001b[39;00m item \u001b[38;5;129;01min\u001b[39;00m my_list:\n\u001b[1;32m----> 4\u001b[0m     result \u001b[38;5;241m+\u001b[39m\u001b[38;5;241m=\u001b[39m \u001b[38;5;28;43mstr\u001b[39;49m\u001b[43m(\u001b[49m\u001b[43mitem\u001b[49m\u001b[43m)\u001b[49m\n",
      "\u001b[1;31mTypeError\u001b[0m: 'str' object is not callable"
     ]
    }
   ],
   "source": [
    "def concatenateElements(my_list):\n",
    "    result =''\n",
    "    for item in my_list:\n",
    "        result += str(item)\n",
    "        \n",
    "concatenateElements([1,2,3,4])"
   ]
  },
  {
   "cell_type": "markdown",
   "id": "69da07b5",
   "metadata": {},
   "source": [
    "6.Write a Python program to print all even numbers from a given numbers list in the same order and stop the printing if any numbers that come after 237 in the sequence"
   ]
  },
  {
   "cell_type": "code",
   "execution_count": 106,
   "id": "52a67390",
   "metadata": {},
   "outputs": [],
   "source": [
    "numbers = [    \n",
    "    386, 462, 47, 418, 907, 344, 236, 375, 823, 566, 597, 978, 328, 615, 953, 345, \n",
    "    399, 162, 758, 219, 918, 237, 412, 566, 826, 248, 866, 950, 626, 949, 687, 217, \n",
    "    815, 67, 104, 58, 512, 24, 892, 894, 767, 553, 81, 379, 843, 831, 445, 742, 717, \n",
    "    958,743, 527\n",
    "    ]"
   ]
  },
  {
   "cell_type": "code",
   "execution_count": 115,
   "id": "9f640c0b",
   "metadata": {},
   "outputs": [
    {
     "name": "stdout",
     "output_type": "stream",
     "text": [
      "386\n",
      "462\n",
      "418\n",
      "344\n",
      "236\n",
      "566\n",
      "978\n",
      "328\n",
      "162\n",
      "758\n",
      "918\n"
     ]
    }
   ],
   "source": [
    "for item in numbers:\n",
    "    if item == 237:\n",
    "        break\n",
    "    elif item % 2== 0:        \n",
    "        print(item)       "
   ]
  },
  {
   "cell_type": "markdown",
   "id": "980e4f4b",
   "metadata": {},
   "source": [
    "7.Write a Python program to print out a set containing all the colors from color_list_1 which are not present in color_list_2"
   ]
  },
  {
   "cell_type": "code",
   "execution_count": 116,
   "id": "77af0317",
   "metadata": {},
   "outputs": [],
   "source": [
    "color_list_1 = set([\"White\", \"Black\", \"Red\"])\n",
    "color_list_2 = set([\"Red\", \"Green\"])"
   ]
  },
  {
   "cell_type": "code",
   "execution_count": 125,
   "id": "7aeeb8fb",
   "metadata": {},
   "outputs": [
    {
     "data": {
      "text/plain": [
       "{'Black', 'White'}"
      ]
     },
     "execution_count": 125,
     "metadata": {},
     "output_type": "execute_result"
    }
   ],
   "source": [
    "color_list_1.difference(color_list_2)"
   ]
  },
  {
   "cell_type": "markdown",
   "id": "50e5e71a",
   "metadata": {},
   "source": [
    "8.Write a Python program that will accept the base and height of a triangle and compute the area"
   ]
  },
  {
   "cell_type": "code",
   "execution_count": 126,
   "id": "07c1ca26",
   "metadata": {},
   "outputs": [
    {
     "name": "stdout",
     "output_type": "stream",
     "text": [
      "Please,Enter your base of triangle:5.5\n",
      "Please,Enter your height of triangle:2.4\n",
      "Your result is 6.6\n"
     ]
    }
   ],
   "source": [
    "a = float(input('Please,Enter your base of triangle:'))\n",
    "h = float(input('Please,Enter your height of triangle:'))\n",
    "s = (a * h)/2\n",
    "print(f\"Your result is {s}\")"
   ]
  },
  {
   "cell_type": "markdown",
   "id": "dc4e622f",
   "metadata": {},
   "source": [
    "9.Write a Python program to compute the greatest common divisor (GCD) of two positive integers"
   ]
  },
  {
   "cell_type": "code",
   "execution_count": 129,
   "id": "84df3ba4",
   "metadata": {},
   "outputs": [
    {
     "name": "stdout",
     "output_type": "stream",
     "text": [
      "GCD of 12 & 17 = 1\n",
      "GCD of 4 & 6 = 2\n",
      "GCD of 336 & 360 = 24\n"
     ]
    }
   ],
   "source": [
    "def gcd(x, y):\n",
    "    gcd = 1   \n",
    "    if x % y == 0:            \n",
    "        return y   \n",
    "    for k in range(int(y / 2), 0, -1):\n",
    "        if x % k == 0 and y % k == 0:\n",
    "            gcd = k\n",
    "            break \n",
    "    return gcd\n",
    "print(\"GCD of 12 & 17 =\",gcd(12, 17))\n",
    "print(\"GCD of 4 & 6 =\",gcd(4, 6))\n",
    "print(\"GCD of 336 & 360 =\",gcd(336, 360))"
   ]
  },
  {
   "cell_type": "markdown",
   "id": "35ed306e",
   "metadata": {},
   "source": [
    "10. Write a Python program to sum of three given integers. However, if two values are equal sum will be zero"
   ]
  },
  {
   "cell_type": "code",
   "execution_count": 134,
   "id": "633d36b7",
   "metadata": {},
   "outputs": [
    {
     "name": "stdout",
     "output_type": "stream",
     "text": [
      "Please,Enter your first number:1\n",
      "Please,Enter your second number:2\n",
      "Please,Enter your third number:2\n",
      "0\n"
     ]
    }
   ],
   "source": [
    "a = int(input('Please,Enter your first number:'))\n",
    "b = int(input('Please,Enter your second number:'))\n",
    "c = int(input('Please,Enter your third number:'))\n",
    "\n",
    "if a == b or b == c or a == c:\n",
    "    print(0)\n",
    "else:\n",
    "    print(a + b +c)"
   ]
  }
 ],
 "metadata": {
  "kernelspec": {
   "display_name": "Python 3 (ipykernel)",
   "language": "python",
   "name": "python3"
  },
  "language_info": {
   "codemirror_mode": {
    "name": "ipython",
    "version": 3
   },
   "file_extension": ".py",
   "mimetype": "text/x-python",
   "name": "python",
   "nbconvert_exporter": "python",
   "pygments_lexer": "ipython3",
   "version": "3.9.12"
  }
 },
 "nbformat": 4,
 "nbformat_minor": 5
}
