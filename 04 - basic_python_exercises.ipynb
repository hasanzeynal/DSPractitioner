{
 "cells": [
  {
   "cell_type": "markdown",
   "id": "9292adaf",
   "metadata": {},
   "source": [
    "1.Write a Python program to sum of two given integers. However, if the sum is between 15 to 20 it will return 20"
   ]
  },
  {
   "cell_type": "code",
   "execution_count": 3,
   "id": "f82f6385",
   "metadata": {},
   "outputs": [
    {
     "name": "stdout",
     "output_type": "stream",
     "text": [
      "3\n",
      "13\n",
      "20\n"
     ]
    }
   ],
   "source": [
    "def sumIntegers(a,b):\n",
    "    sum = a + b\n",
    "    if 15 < sum < 20:\n",
    "        print(20)\n",
    "    else: \n",
    "        print(a + b)\n",
    "sumIntegers(1,2)\n",
    "sumIntegers(4,9)\n",
    "sumIntegers(8,9)\n"
   ]
  },
  {
   "cell_type": "markdown",
   "id": "b4d4c1c3",
   "metadata": {},
   "source": [
    "2.Write a Python program to compute the future value of a specified principal amount, rate of interest, and a number of years."
   ]
  },
  {
   "cell_type": "code",
   "execution_count": 4,
   "id": "02004785",
   "metadata": {},
   "outputs": [
    {
     "name": "stdout",
     "output_type": "stream",
     "text": [
      "12722.79\n"
     ]
    }
   ],
   "source": [
    "amt = 10000\n",
    "int = 3.5\n",
    "years = 7\n",
    "future_value = amt*((1+(0.01*int)) ** years)\n",
    "print(round(future_value,2))"
   ]
  },
  {
   "cell_type": "markdown",
   "id": "7f0f5099",
   "metadata": {},
   "source": [
    "3.Write a Python program to compute the distance between the points (x1, y1) and (x2, y2)."
   ]
  },
  {
   "cell_type": "code",
   "execution_count": 6,
   "id": "2b406cb6",
   "metadata": {},
   "outputs": [
    {
     "name": "stdout",
     "output_type": "stream",
     "text": [
      "7.0710678118654755\n"
     ]
    }
   ],
   "source": [
    "import math\n",
    "p1 = [4,0]\n",
    "p2 = [3,7]\n",
    "print(math.sqrt(((p1[0] - p2[0])**2) + ((p1[1] - p2[1])**2)))"
   ]
  },
  {
   "cell_type": "markdown",
   "id": "2b5e7638",
   "metadata": {},
   "source": [
    "4.Write a Python program to get OS name, platform and release information."
   ]
  },
  {
   "cell_type": "code",
   "execution_count": 10,
   "id": "b3fb192e",
   "metadata": {},
   "outputs": [
    {
     "name": "stdout",
     "output_type": "stream",
     "text": [
      "nt\n",
      "Windows\n",
      "10\n"
     ]
    }
   ],
   "source": [
    "import platform\n",
    "import os\n",
    "print(os.name)\n",
    "print(platform.system())\n",
    "print(platform.release())"
   ]
  },
  {
   "cell_type": "markdown",
   "id": "5713e5d6",
   "metadata": {},
   "source": [
    "5.Write a Python program to find the largest and smallest digit of a given number."
   ]
  },
  {
   "cell_type": "code",
   "execution_count": null,
   "id": "561fbc7a",
   "metadata": {},
   "outputs": [],
   "source": [
    "def findNumbers(number):\n",
    "    smallest_digit = 0\n",
    "    greatest_digit = 9\n",
    "    while (number):\n",
    "        digit = number % 10\n",
    "        greatest_digit = max(digit,greatest_digit)\n",
    "        smallest_digit = min(digit,smallest_digit)\n",
    "    return smallest_digit,greatest_digit\n",
    "number = 1234576809\n",
    "\n",
    "    \n",
    "    \n",
    "findNumbers(number)"
   ]
  },
  {
   "cell_type": "markdown",
   "id": "937a28f3",
   "metadata": {},
   "source": [
    "6.Write a Python program to print Emojis using unicode characters or CLDR (Common Locale Data Repository ) short names."
   ]
  },
  {
   "cell_type": "code",
   "execution_count": null,
   "id": "4141994a",
   "metadata": {},
   "outputs": [],
   "source": []
  },
  {
   "cell_type": "code",
   "execution_count": null,
   "id": "81918f0b",
   "metadata": {},
   "outputs": [],
   "source": []
  },
  {
   "cell_type": "code",
   "execution_count": null,
   "id": "e281ed0b",
   "metadata": {},
   "outputs": [],
   "source": []
  },
  {
   "cell_type": "markdown",
   "id": "e8a2a11a",
   "metadata": {},
   "source": [
    "7.Write a Python program to reverse all the words which have odd length."
   ]
  },
  {
   "cell_type": "code",
   "execution_count": null,
   "id": "d58fc012",
   "metadata": {},
   "outputs": [],
   "source": []
  },
  {
   "cell_type": "code",
   "execution_count": null,
   "id": "b6a0e929",
   "metadata": {},
   "outputs": [],
   "source": []
  },
  {
   "cell_type": "code",
   "execution_count": null,
   "id": "ac3514d8",
   "metadata": {},
   "outputs": [],
   "source": []
  },
  {
   "cell_type": "code",
   "execution_count": null,
   "id": "dbbeb5f6",
   "metadata": {},
   "outputs": [],
   "source": []
  },
  {
   "cell_type": "markdown",
   "id": "680402aa",
   "metadata": {},
   "source": [
    "8.Write a Python program to get the Least Common Multiple (LCM) of more than two numbers. Take the numbers from a given list of positive integers."
   ]
  },
  {
   "cell_type": "code",
   "execution_count": null,
   "id": "9cc69149",
   "metadata": {},
   "outputs": [],
   "source": []
  },
  {
   "cell_type": "code",
   "execution_count": null,
   "id": "2e157d7e",
   "metadata": {},
   "outputs": [],
   "source": []
  },
  {
   "cell_type": "code",
   "execution_count": null,
   "id": "484352cb",
   "metadata": {},
   "outputs": [],
   "source": []
  },
  {
   "cell_type": "code",
   "execution_count": null,
   "id": "6880ef70",
   "metadata": {},
   "outputs": [],
   "source": []
  },
  {
   "cell_type": "markdown",
   "id": "b7ef9b05",
   "metadata": {},
   "source": [
    "9.Write a Python program to alternate the case of each letter in a given string and the first letter of the said string must be uppercase."
   ]
  },
  {
   "cell_type": "code",
   "execution_count": null,
   "id": "59b55c74",
   "metadata": {},
   "outputs": [],
   "source": []
  },
  {
   "cell_type": "code",
   "execution_count": null,
   "id": "87558a9a",
   "metadata": {},
   "outputs": [],
   "source": []
  },
  {
   "cell_type": "code",
   "execution_count": null,
   "id": "4fc04f9f",
   "metadata": {},
   "outputs": [],
   "source": []
  },
  {
   "cell_type": "code",
   "execution_count": null,
   "id": "46328e81",
   "metadata": {},
   "outputs": [],
   "source": []
  },
  {
   "cell_type": "code",
   "execution_count": null,
   "id": "e51fc082",
   "metadata": {},
   "outputs": [],
   "source": []
  },
  {
   "cell_type": "code",
   "execution_count": null,
   "id": "57f5cbf6",
   "metadata": {},
   "outputs": [],
   "source": []
  },
  {
   "cell_type": "markdown",
   "id": "87aa0650",
   "metadata": {},
   "source": [
    "10.Write a Python program to compute the sum of the negative and positive numbers of an array of integers and display the largest sum."
   ]
  },
  {
   "cell_type": "code",
   "execution_count": null,
   "id": "e2cced99",
   "metadata": {},
   "outputs": [],
   "source": []
  },
  {
   "cell_type": "code",
   "execution_count": null,
   "id": "9a6bf348",
   "metadata": {},
   "outputs": [],
   "source": []
  },
  {
   "cell_type": "code",
   "execution_count": null,
   "id": "f1e72e11",
   "metadata": {},
   "outputs": [],
   "source": []
  },
  {
   "cell_type": "code",
   "execution_count": null,
   "id": "970edf20",
   "metadata": {},
   "outputs": [],
   "source": []
  }
 ],
 "metadata": {
  "kernelspec": {
   "display_name": "Python 3 (ipykernel)",
   "language": "python",
   "name": "python3"
  },
  "language_info": {
   "codemirror_mode": {
    "name": "ipython",
    "version": 3
   },
   "file_extension": ".py",
   "mimetype": "text/x-python",
   "name": "python",
   "nbconvert_exporter": "python",
   "pygments_lexer": "ipython3",
   "version": "3.9.12"
  }
 },
 "nbformat": 4,
 "nbformat_minor": 5
}
