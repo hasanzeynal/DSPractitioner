{
 "cells": [
  {
   "cell_type": "markdown",
   "id": "d9e7754f",
   "metadata": {},
   "source": [
    "1.Write a Python program to find all the factors of a given natural number."
   ]
  },
  {
   "cell_type": "code",
   "execution_count": 1,
   "id": "4e00fe63",
   "metadata": {},
   "outputs": [
    {
     "name": "stdout",
     "output_type": "stream",
     "text": [
      "\n",
      "Original Number: 1\n",
      "Factors of the said number: {1}\n",
      "\n",
      "Original Number: 12\n",
      "Factors of the said number: {1, 2, 3, 4, 6, 12}\n",
      "\n",
      "Original Number: 100\n",
      "Factors of the said number: {1, 2, 4, 100, 5, 10, 50, 20, 25}\n"
     ]
    }
   ],
   "source": [
    "from functools import reduce\n",
    "\n",
    "def test(n):    \n",
    "    return set(reduce(list.__add__, \n",
    "                ([i, n//i] for i in range(1, int(n**0.5) + 1) if n % i == 0)))\n",
    "n = 1\n",
    "print(\"\\nOriginal Number:\",n)\n",
    "print(\"Factors of the said number:\",test(n))\n",
    "n = 12\n",
    "print(\"\\nOriginal Number:\",n)\n",
    "print(\"Factors of the said number:\",test(n))\n",
    "n = 100\n",
    "print(\"\\nOriginal Number:\",n)\n",
    "print(\"Factors of the said number:\",test(n))"
   ]
  },
  {
   "cell_type": "markdown",
   "id": "807524bc",
   "metadata": {},
   "source": [
    "2.Write a Python program to get the index number of all lower case letters in a given string."
   ]
  },
  {
   "cell_type": "code",
   "execution_count": null,
   "id": "6c17a31b",
   "metadata": {},
   "outputs": [],
   "source": []
  },
  {
   "cell_type": "code",
   "execution_count": null,
   "id": "6bfbbf2c",
   "metadata": {},
   "outputs": [],
   "source": []
  },
  {
   "cell_type": "code",
   "execution_count": null,
   "id": "97a7453f",
   "metadata": {},
   "outputs": [],
   "source": []
  },
  {
   "cell_type": "code",
   "execution_count": null,
   "id": "f21c6c3a",
   "metadata": {},
   "outputs": [],
   "source": []
  },
  {
   "cell_type": "code",
   "execution_count": null,
   "id": "9070a48f",
   "metadata": {},
   "outputs": [],
   "source": []
  },
  {
   "cell_type": "code",
   "execution_count": null,
   "id": "5f88bdb4",
   "metadata": {},
   "outputs": [],
   "source": []
  },
  {
   "cell_type": "code",
   "execution_count": null,
   "id": "ed417fbc",
   "metadata": {},
   "outputs": [],
   "source": []
  },
  {
   "cell_type": "markdown",
   "id": "4b5a754e",
   "metadata": {},
   "source": [
    "3.Write a Python program to check whether the average value of the elements of a given array of numbers is a whole number or not"
   ]
  },
  {
   "cell_type": "code",
   "execution_count": null,
   "id": "88200b05",
   "metadata": {},
   "outputs": [],
   "source": [
    "\n"
   ]
  },
  {
   "cell_type": "code",
   "execution_count": null,
   "id": "a618a796",
   "metadata": {},
   "outputs": [],
   "source": []
  },
  {
   "cell_type": "code",
   "execution_count": null,
   "id": "e97a13d3",
   "metadata": {},
   "outputs": [],
   "source": [
    "\n",
    "\n"
   ]
  },
  {
   "cell_type": "markdown",
   "id": "3bea7dd3",
   "metadata": {},
   "source": [
    "4.Write a Python program to remove all vowels from a given string."
   ]
  },
  {
   "cell_type": "code",
   "execution_count": null,
   "id": "5e70e61f",
   "metadata": {},
   "outputs": [],
   "source": []
  },
  {
   "cell_type": "code",
   "execution_count": null,
   "id": "bb3063d1",
   "metadata": {},
   "outputs": [],
   "source": []
  },
  {
   "cell_type": "code",
   "execution_count": null,
   "id": "ebc67868",
   "metadata": {},
   "outputs": [],
   "source": []
  },
  {
   "cell_type": "code",
   "execution_count": null,
   "id": "408fe7bb",
   "metadata": {},
   "outputs": [],
   "source": []
  },
  {
   "cell_type": "markdown",
   "id": "8db42b77",
   "metadata": {},
   "source": [
    "5.Write a Python program to convert the letters of a given string (same case-upper/lower) into alphabetical order"
   ]
  },
  {
   "cell_type": "code",
   "execution_count": null,
   "id": "c988b70d",
   "metadata": {},
   "outputs": [],
   "source": []
  },
  {
   "cell_type": "code",
   "execution_count": null,
   "id": "2753af23",
   "metadata": {},
   "outputs": [],
   "source": []
  },
  {
   "cell_type": "code",
   "execution_count": null,
   "id": "b62332f2",
   "metadata": {},
   "outputs": [],
   "source": []
  },
  {
   "cell_type": "code",
   "execution_count": null,
   "id": "c3da97f6",
   "metadata": {},
   "outputs": [],
   "source": []
  },
  {
   "cell_type": "code",
   "execution_count": null,
   "id": "c2c2757b",
   "metadata": {},
   "outputs": [],
   "source": []
  },
  {
   "cell_type": "code",
   "execution_count": null,
   "id": "41f26fe2",
   "metadata": {},
   "outputs": [],
   "source": []
  },
  {
   "cell_type": "markdown",
   "id": "b26183c3",
   "metadata": {},
   "source": [
    "6.Write a Python program to reverse a given string in lower case. "
   ]
  },
  {
   "cell_type": "code",
   "execution_count": null,
   "id": "3cbc6e1c",
   "metadata": {},
   "outputs": [],
   "source": []
  },
  {
   "cell_type": "code",
   "execution_count": null,
   "id": "5b752604",
   "metadata": {},
   "outputs": [],
   "source": []
  },
  {
   "cell_type": "code",
   "execution_count": null,
   "id": "9992e0f2",
   "metadata": {},
   "outputs": [],
   "source": []
  },
  {
   "cell_type": "code",
   "execution_count": null,
   "id": "3ecf8fd2",
   "metadata": {},
   "outputs": [],
   "source": []
  },
  {
   "cell_type": "markdown",
   "id": "2b412933",
   "metadata": {},
   "source": [
    "7.Write a Python program to remove the first and last elements from a given string."
   ]
  },
  {
   "cell_type": "code",
   "execution_count": null,
   "id": "18dc3a77",
   "metadata": {},
   "outputs": [],
   "source": []
  },
  {
   "cell_type": "code",
   "execution_count": null,
   "id": "e3ea90be",
   "metadata": {},
   "outputs": [],
   "source": []
  },
  {
   "cell_type": "code",
   "execution_count": null,
   "id": "2445bace",
   "metadata": {},
   "outputs": [],
   "source": []
  },
  {
   "cell_type": "markdown",
   "id": "3f8f23c8",
   "metadata": {},
   "source": [
    "8.Write a Python program to check if a given string contains only lowercase or uppercase characters"
   ]
  },
  {
   "cell_type": "code",
   "execution_count": null,
   "id": "d20a8aa2",
   "metadata": {},
   "outputs": [],
   "source": []
  },
  {
   "cell_type": "code",
   "execution_count": null,
   "id": "89865fab",
   "metadata": {},
   "outputs": [],
   "source": []
  },
  {
   "cell_type": "code",
   "execution_count": null,
   "id": "755e953f",
   "metadata": {},
   "outputs": [],
   "source": []
  },
  {
   "cell_type": "code",
   "execution_count": null,
   "id": "8aa05e57",
   "metadata": {},
   "outputs": [],
   "source": []
  },
  {
   "cell_type": "markdown",
   "id": "c77c87e0",
   "metadata": {},
   "source": [
    "9.Write a Python program to create a coded string from a given string, using specified formula."
   ]
  },
  {
   "cell_type": "markdown",
   "id": "0d27989b",
   "metadata": {},
   "source": [
    "Replace all 'P' with '9', 'T' with '0', 'S' with '1', 'H' with '6' and 'A' with '8'"
   ]
  },
  {
   "cell_type": "code",
   "execution_count": null,
   "id": "4e0b8910",
   "metadata": {},
   "outputs": [],
   "source": []
  },
  {
   "cell_type": "code",
   "execution_count": null,
   "id": "11664468",
   "metadata": {},
   "outputs": [],
   "source": []
  },
  {
   "cell_type": "code",
   "execution_count": null,
   "id": "f32f72a7",
   "metadata": {},
   "outputs": [],
   "source": []
  },
  {
   "cell_type": "code",
   "execution_count": null,
   "id": "a2d7f839",
   "metadata": {},
   "outputs": [],
   "source": []
  },
  {
   "cell_type": "markdown",
   "id": "e54aca6e",
   "metadata": {},
   "source": [
    "10.Write a Python program to calculate Euclid's totient function of a given integer. Use a primitive method to calculate Euclid's totient function"
   ]
  },
  {
   "cell_type": "code",
   "execution_count": 2,
   "id": "4e0a095e",
   "metadata": {},
   "outputs": [
    {
     "name": "stdout",
     "output_type": "stream",
     "text": [
      "4\n",
      "8\n",
      "20\n"
     ]
    }
   ],
   "source": [
    "def gcd(p,q):\n",
    "# Create the gcd of two positive integers.\n",
    "    while q != 0:\n",
    "        p, q = q, p%q\n",
    "    return p\n",
    "\n",
    "def is_coprime(x, y):\n",
    "    return gcd(x, y) == 1\n",
    "\n",
    "def phi_func(x):\n",
    "    if x == 1:\n",
    "        return 1\n",
    "    else:\n",
    "        n = [y for y in range(1,x) if is_coprime(x,y)]\n",
    "        return len(n)\n",
    "print(phi_func(10))\n",
    "print(phi_func(15))\n",
    "print(phi_func(33))"
   ]
  },
  {
   "cell_type": "code",
   "execution_count": null,
   "id": "dd97882e",
   "metadata": {},
   "outputs": [],
   "source": []
  }
 ],
 "metadata": {
  "kernelspec": {
   "display_name": "Python 3 (ipykernel)",
   "language": "python",
   "name": "python3"
  },
  "language_info": {
   "codemirror_mode": {
    "name": "ipython",
    "version": 3
   },
   "file_extension": ".py",
   "mimetype": "text/x-python",
   "name": "python",
   "nbconvert_exporter": "python",
   "pygments_lexer": "ipython3",
   "version": "3.9.12"
  }
 },
 "nbformat": 4,
 "nbformat_minor": 5
}
