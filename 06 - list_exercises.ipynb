{
 "cells": [
  {
   "cell_type": "markdown",
   "id": "785aa674",
   "metadata": {},
   "source": [
    "1.listediki hansi ededlerin cemi 10 dur onlari qaytar"
   ]
  },
  {
   "cell_type": "code",
   "execution_count": 9,
   "id": "6c94e6ba",
   "metadata": {},
   "outputs": [
    {
     "ename": "SyntaxError",
     "evalue": "invalid syntax (3117565277.py, line 4)",
     "output_type": "error",
     "traceback": [
      "\u001b[0;36m  Input \u001b[0;32mIn [9]\u001b[0;36m\u001b[0m\n\u001b[0;31m    l[0] + l[i+1] == 10:\u001b[0m\n\u001b[0m                        ^\u001b[0m\n\u001b[0;31mSyntaxError\u001b[0m\u001b[0;31m:\u001b[0m invalid syntax\n"
     ]
    }
   ],
   "source": [
    "def checkL(l):\n",
    "    for i in range(0,len(l)):\n",
    "        \n",
    "        l[0] + l[i+1] == 10:\n",
    "            \n",
    "            print(i)\n",
    "        \n",
    "        \n",
    "checkL([6,5,9,12,-2,3,5,4,6])"
   ]
  },
  {
   "cell_type": "markdown",
   "id": "e299d90e",
   "metadata": {},
   "source": [
    "2.Write a Python program to check if the elements of the first list are contained in the second one regardless of order"
   ]
  },
  {
   "cell_type": "code",
   "execution_count": 23,
   "id": "03399dea",
   "metadata": {},
   "outputs": [
    {
     "name": "stdout",
     "output_type": "stream",
     "text": [
      "True\n",
      "True\n",
      "False\n"
     ]
    }
   ],
   "source": [
    "def checkList(l1,l2):\n",
    "    for item in l1:\n",
    "        if l1.count(item) > l2.count(item):\n",
    "            return False\n",
    "        return True\n",
    "    \n",
    "print(checkList([1,2,3],[1,2]))\n",
    "print(checkList([1,2],[1,2,3]))\n",
    "print(checkList([1,2,3,4,5],[6,7,8,4]))"
   ]
  },
  {
   "cell_type": "markdown",
   "id": "375d9ae3",
   "metadata": {},
   "source": [
    "3.Write a Python program to check if there are duplicate values in a given flat list."
   ]
  },
  {
   "cell_type": "code",
   "execution_count": 9,
   "id": "04962c92",
   "metadata": {},
   "outputs": [
    {
     "name": "stdout",
     "output_type": "stream",
     "text": [
      "False\n",
      "False\n"
     ]
    }
   ],
   "source": [
    "def dublicateList(l1):\n",
    "    for i in range(0,len(l1)-1):  \n",
    "        for j in range(0,len(l1)-1):\n",
    "            if l1[i] == l1[j + 1]:\n",
    "                return True\n",
    "\n",
    "            return False\n",
    "print(dublicateList([1,2,3,4,5,6,7]))\n",
    "print(dublicateList([1,2,3,3,4,5,6,7]))"
   ]
  },
  {
   "cell_type": "markdown",
   "id": "122c0046",
   "metadata": {},
   "source": [
    "# question 1"
   ]
  },
  {
   "cell_type": "markdown",
   "id": "2a4ef92b",
   "metadata": {},
   "source": [
    "# let's look at another one"
   ]
  },
  {
   "cell_type": "code",
   "execution_count": 90,
   "id": "4ef0fd20",
   "metadata": {},
   "outputs": [
    {
     "name": "stdout",
     "output_type": "stream",
     "text": [
      "False\n",
      "True\n"
     ]
    }
   ],
   "source": [
    "def has_duplicates(lst):   \n",
    "    return len(lst) != len(set(lst))\n",
    "\n",
    "print(has_duplicates([1,2,3,4,5,6,7,8]))\n",
    "print(has_duplicates([1,3,4,5,6,6]))"
   ]
  },
  {
   "cell_type": "markdown",
   "id": "eb930cca",
   "metadata": {},
   "source": [
    "4.Write a Python program to create a two-dimensional list from given list of lists"
   ]
  },
  {
   "cell_type": "code",
   "execution_count": 48,
   "id": "fa40a5b3",
   "metadata": {},
   "outputs": [],
   "source": [
    "given_list = [(1, 4, 7, 10), (2, 5, 8, 11), (3, 6, 9, 12)]\n",
    "expected_output = [(1, 4), (2, 5)]"
   ]
  },
  {
   "cell_type": "code",
   "execution_count": 56,
   "id": "a4c80c03",
   "metadata": {},
   "outputs": [],
   "source": [
    "a = given_list[0][0],given_list[0][1]\n",
    "b = given_list[1][0],given_list[1][1]"
   ]
  },
  {
   "cell_type": "code",
   "execution_count": 65,
   "id": "117d2c71",
   "metadata": {},
   "outputs": [],
   "source": [
    "expected_output = a,b"
   ]
  },
  {
   "cell_type": "code",
   "execution_count": 66,
   "id": "55e3ad15",
   "metadata": {},
   "outputs": [
    {
     "data": {
      "text/plain": [
       "[(1, 4), (2, 5)]"
      ]
     },
     "execution_count": 66,
     "metadata": {},
     "output_type": "execute_result"
    }
   ],
   "source": [
    "list(expected_output)"
   ]
  },
  {
   "cell_type": "markdown",
   "id": "41abf682",
   "metadata": {},
   "source": [
    "5.Write a Python program to get the most frequent element in a given list of numbers."
   ]
  },
  {
   "cell_type": "code",
   "execution_count": 73,
   "id": "49240a39",
   "metadata": {},
   "outputs": [
    {
     "name": "stdout",
     "output_type": "stream",
     "text": [
      "3\n",
      "3\n",
      "3\n",
      "3\n",
      "3\n",
      "3\n",
      "3\n",
      "3\n",
      "3\n",
      "3\n",
      "5\n",
      "5\n",
      "5\n",
      "5\n",
      "5\n",
      "5\n",
      "5\n",
      "5\n",
      "5\n",
      "5\n"
     ]
    }
   ],
   "source": [
    "def mostFrequent(l1):\n",
    "    numbers = [0,1,2,3,4,5,6,7,8,9]\n",
    "    for i in range(0,len(numbers)-1):\n",
    "        for item in numbers:\n",
    "            if l1.count(numbers[i]) > l1.count(numbers[i+1]): \n",
    "                print(numbers[i])\n",
    "mostFrequent([1,2,3,3,4,5,5,5])"
   ]
  },
  {
   "cell_type": "markdown",
   "id": "099371f4",
   "metadata": {},
   "source": [
    "# another one"
   ]
  },
  {
   "cell_type": "code",
   "execution_count": 77,
   "id": "17cb508c",
   "metadata": {},
   "outputs": [
    {
     "name": "stdout",
     "output_type": "stream",
     "text": [
      "2\n",
      "0\n"
     ]
    }
   ],
   "source": [
    "def most_frequent(nums):  \n",
    "    return max(set(nums), key = nums.count) \n",
    "print(most_frequent([1, 2, 1, 2, 3, 2, 1, 4, 2]))\n",
    "print(most_frequent([1,3,4,5,7,8,9,0,0,9,8,7,6,3]))"
   ]
  },
  {
   "cell_type": "markdown",
   "id": "c9021b4d",
   "metadata": {},
   "source": [
    " 6.Write a Python program to check if two given lists contain the same elements regardless of order."
   ]
  },
  {
   "cell_type": "code",
   "execution_count": 85,
   "id": "40c0ecd4",
   "metadata": {},
   "outputs": [
    {
     "name": "stdout",
     "output_type": "stream",
     "text": [
      "True\n",
      "False\n"
     ]
    }
   ],
   "source": [
    "def sameElements(l1,l2):\n",
    "      for x in set(l1 + l2):\n",
    "            if l1.count(x) != l2.count(x):                \n",
    "                return False            \n",
    "            return True\n",
    "print(sameElements([1,2,3],[2,3,1]))\n",
    "print(sameElements([1,2,3,4],[2,3,5,6]))"
   ]
  },
  {
   "cell_type": "code",
   "execution_count": null,
   "id": "343e5544",
   "metadata": {},
   "outputs": [],
   "source": []
  },
  {
   "cell_type": "code",
   "execution_count": null,
   "id": "1f27ff8d",
   "metadata": {},
   "outputs": [],
   "source": []
  },
  {
   "cell_type": "code",
   "execution_count": null,
   "id": "db53129e",
   "metadata": {},
   "outputs": [],
   "source": []
  },
  {
   "cell_type": "code",
   "execution_count": null,
   "id": "9dccd073",
   "metadata": {},
   "outputs": [],
   "source": []
  },
  {
   "cell_type": "code",
   "execution_count": null,
   "id": "b93b150d",
   "metadata": {},
   "outputs": [],
   "source": []
  },
  {
   "cell_type": "code",
   "execution_count": null,
   "id": "0f01a923",
   "metadata": {},
   "outputs": [],
   "source": []
  },
  {
   "cell_type": "code",
   "execution_count": null,
   "id": "9aea1781",
   "metadata": {},
   "outputs": [],
   "source": []
  },
  {
   "cell_type": "code",
   "execution_count": 18,
   "id": "ebbb8244",
   "metadata": {},
   "outputs": [],
   "source": [
    "m = list(range(2,1000000))"
   ]
  },
  {
   "cell_type": "code",
   "execution_count": 25,
   "id": "29d363ce",
   "metadata": {},
   "outputs": [
    {
     "name": "stdout",
     "output_type": "stream",
     "text": [
      "None\n",
      "None\n"
     ]
    }
   ],
   "source": [
    "def substraction(n):\n",
    "    for i in m:\n",
    "        if n==i:\n",
    "            continue\n",
    "            if n % i ==0:\n",
    "                print(n)\n",
    "        \n",
    "    \n",
    "print(substraction(5))\n",
    "print(substraction(10))"
   ]
  },
  {
   "cell_type": "code",
   "execution_count": 33,
   "id": "9b11dcdd",
   "metadata": {},
   "outputs": [
    {
     "name": "stdout",
     "output_type": "stream",
     "text": [
      "5\n",
      "-1\n"
     ]
    }
   ],
   "source": [
    "from math import sqrt\n",
    "\n",
    "eded = int(input())\n",
    "ededlist = [0]\n",
    "finallist = []\n",
    "\n",
    "\n",
    "def murekkebsade(a):\n",
    "    n = a\n",
    "\n",
    "    if n < 2:\n",
    "        None\n",
    "    elif n == 2:\n",
    "        None\n",
    "    else:\n",
    "        limit = int(sqrt(n))\n",
    "        i = 2\n",
    "        m = True\n",
    "        while i <= limit:\n",
    "            if n % i == 0:\n",
    "                ededlist.append(n)\n",
    "                m = False\n",
    "                break\n",
    "            i += 1\n",
    "        if m:\n",
    "            None\n",
    "\n",
    "\n",
    "for eded2 in range(eded):\n",
    "    eded2 += 1\n",
    "    murekkebsade(eded2)\n",
    "\n",
    "for list1 in range(len(ededlist)):\n",
    "    for list2 in range(list1, len(ededlist)):\n",
    "        if int(ededlist[list1]) + int(ededlist[list2]) == eded:\n",
    "            finallist.append(list2)\n",
    "\n",
    "if len(finallist) == 0:\n",
    "    print(-1)\n",
    "else:\n",
    "    print(len(finallist))"
   ]
  },
  {
   "cell_type": "code",
   "execution_count": null,
   "id": "6f46a349",
   "metadata": {},
   "outputs": [],
   "source": []
  },
  {
   "cell_type": "code",
   "execution_count": null,
   "id": "a5d23a89",
   "metadata": {},
   "outputs": [],
   "source": []
  },
  {
   "cell_type": "code",
   "execution_count": null,
   "id": "23ddd53f",
   "metadata": {},
   "outputs": [],
   "source": []
  },
  {
   "cell_type": "code",
   "execution_count": 61,
   "id": "e472ad3b",
   "metadata": {},
   "outputs": [
    {
     "name": "stdout",
     "output_type": "stream",
     "text": [
      "2\n",
      "3\n",
      "4\n",
      "3\n",
      "4\n",
      "4\n"
     ]
    }
   ],
   "source": [
    "def substraction (n):\n",
    "    for i in range(2,100):\n",
    "        while n>i:\n",
    "            print(i)\n",
    "            i+=1\n",
    "    \n",
    "substraction(5)\n",
    "#substraction(10)"
   ]
  },
  {
   "cell_type": "code",
   "execution_count": null,
   "id": "6954d707",
   "metadata": {},
   "outputs": [],
   "source": []
  },
  {
   "cell_type": "code",
   "execution_count": null,
   "id": "1779f0f1",
   "metadata": {},
   "outputs": [],
   "source": []
  }
 ],
 "metadata": {
  "kernelspec": {
   "display_name": "Python 3 (ipykernel)",
   "language": "python",
   "name": "python3"
  },
  "language_info": {
   "codemirror_mode": {
    "name": "ipython",
    "version": 3
   },
   "file_extension": ".py",
   "mimetype": "text/x-python",
   "name": "python",
   "nbconvert_exporter": "python",
   "pygments_lexer": "ipython3",
   "version": "3.9.12"
  }
 },
 "nbformat": 4,
 "nbformat_minor": 5
}
