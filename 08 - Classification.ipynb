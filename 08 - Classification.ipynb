{
 "cells": [
  {
   "cell_type": "code",
   "execution_count": 37,
   "id": "01c04ab2",
   "metadata": {},
   "outputs": [],
   "source": [
    "import pandas as pd\n",
    "import numpy as np\n",
    "import seaborn as sns\n",
    "import matplotlib.pyplot as plt\n",
    "\n",
    "from sklearn import metrics\n",
    "from sklearn.model_selection import train_test_split\n"
   ]
  },
  {
   "cell_type": "code",
   "execution_count": 38,
   "id": "a3525dda",
   "metadata": {},
   "outputs": [
    {
     "data": {
      "text/html": [
       "<div>\n",
       "<style scoped>\n",
       "    .dataframe tbody tr th:only-of-type {\n",
       "        vertical-align: middle;\n",
       "    }\n",
       "\n",
       "    .dataframe tbody tr th {\n",
       "        vertical-align: top;\n",
       "    }\n",
       "\n",
       "    .dataframe thead th {\n",
       "        text-align: right;\n",
       "    }\n",
       "</style>\n",
       "<table border=\"1\" class=\"dataframe\">\n",
       "  <thead>\n",
       "    <tr style=\"text-align: right;\">\n",
       "      <th></th>\n",
       "      <th>Season</th>\n",
       "      <th>Club</th>\n",
       "      <th>Player</th>\n",
       "      <th>Age</th>\n",
       "      <th>Foreign</th>\n",
       "      <th>Nationality</th>\n",
       "      <th>Multinational</th>\n",
       "      <th>Market Value</th>\n",
       "    </tr>\n",
       "  </thead>\n",
       "  <tbody>\n",
       "    <tr>\n",
       "      <th>0</th>\n",
       "      <td>2007</td>\n",
       "      <td>Ankaragücü</td>\n",
       "      <td>Mateus</td>\n",
       "      <td>24</td>\n",
       "      <td>1</td>\n",
       "      <td>Brazil</td>\n",
       "      <td>0</td>\n",
       "      <td>25000</td>\n",
       "    </tr>\n",
       "    <tr>\n",
       "      <th>1</th>\n",
       "      <td>2007</td>\n",
       "      <td>Ankaragücü</td>\n",
       "      <td>Tevfik Altindag</td>\n",
       "      <td>18</td>\n",
       "      <td>0</td>\n",
       "      <td>Turkey</td>\n",
       "      <td>0</td>\n",
       "      <td>50000</td>\n",
       "    </tr>\n",
       "    <tr>\n",
       "      <th>2</th>\n",
       "      <td>2007</td>\n",
       "      <td>Ankaragücü</td>\n",
       "      <td>Abdülkadir Kayali</td>\n",
       "      <td>16</td>\n",
       "      <td>0</td>\n",
       "      <td>Turkey</td>\n",
       "      <td>0</td>\n",
       "      <td>100000</td>\n",
       "    </tr>\n",
       "    <tr>\n",
       "      <th>3</th>\n",
       "      <td>2007</td>\n",
       "      <td>Ankaragücü</td>\n",
       "      <td>Engin Aktürk</td>\n",
       "      <td>23</td>\n",
       "      <td>0</td>\n",
       "      <td>Turkey</td>\n",
       "      <td>0</td>\n",
       "      <td>100000</td>\n",
       "    </tr>\n",
       "    <tr>\n",
       "      <th>4</th>\n",
       "      <td>2007</td>\n",
       "      <td>Ankaragücü</td>\n",
       "      <td>Gökhan Emreciksin</td>\n",
       "      <td>22</td>\n",
       "      <td>0</td>\n",
       "      <td>Turkey</td>\n",
       "      <td>0</td>\n",
       "      <td>100000</td>\n",
       "    </tr>\n",
       "    <tr>\n",
       "      <th>5</th>\n",
       "      <td>2007</td>\n",
       "      <td>Ankaragücü</td>\n",
       "      <td>Andrés Lamas</td>\n",
       "      <td>23</td>\n",
       "      <td>1</td>\n",
       "      <td>Uruguay</td>\n",
       "      <td>1</td>\n",
       "      <td>200000</td>\n",
       "    </tr>\n",
       "    <tr>\n",
       "      <th>6</th>\n",
       "      <td>2007</td>\n",
       "      <td>Ankaragücü</td>\n",
       "      <td>Gediminas Paulauskas</td>\n",
       "      <td>24</td>\n",
       "      <td>1</td>\n",
       "      <td>Lithuania</td>\n",
       "      <td>0</td>\n",
       "      <td>200000</td>\n",
       "    </tr>\n",
       "  </tbody>\n",
       "</table>\n",
       "</div>"
      ],
      "text/plain": [
       "   Season        Club                Player  Age  Foreign Nationality  \\\n",
       "0    2007  Ankaragücü                Mateus   24        1      Brazil   \n",
       "1    2007  Ankaragücü       Tevfik Altindag   18        0      Turkey   \n",
       "2    2007  Ankaragücü     Abdülkadir Kayali   16        0      Turkey   \n",
       "3    2007  Ankaragücü          Engin Aktürk   23        0      Turkey   \n",
       "4    2007  Ankaragücü     Gökhan Emreciksin   22        0      Turkey   \n",
       "5    2007  Ankaragücü          Andrés Lamas   23        1     Uruguay   \n",
       "6    2007  Ankaragücü  Gediminas Paulauskas   24        1   Lithuania   \n",
       "\n",
       "   Multinational  Market Value  \n",
       "0              0         25000  \n",
       "1              0         50000  \n",
       "2              0        100000  \n",
       "3              0        100000  \n",
       "4              0        100000  \n",
       "5              1        200000  \n",
       "6              0        200000  "
      ]
     },
     "execution_count": 38,
     "metadata": {},
     "output_type": "execute_result"
    }
   ],
   "source": [
    "dataFrame = pd.read_excel(\"TurkeySuperLeague.xlsx\")\n",
    "dataFrame.head(7)"
   ]
  },
  {
   "cell_type": "markdown",
   "id": "5780814f",
   "metadata": {},
   "source": [
    "# and we try to predict the player is  Foreign or not"
   ]
  },
  {
   "cell_type": "code",
   "execution_count": 39,
   "id": "878a22ae",
   "metadata": {},
   "outputs": [
    {
     "data": {
      "text/html": [
       "<div>\n",
       "<style scoped>\n",
       "    .dataframe tbody tr th:only-of-type {\n",
       "        vertical-align: middle;\n",
       "    }\n",
       "\n",
       "    .dataframe tbody tr th {\n",
       "        vertical-align: top;\n",
       "    }\n",
       "\n",
       "    .dataframe thead th {\n",
       "        text-align: right;\n",
       "    }\n",
       "</style>\n",
       "<table border=\"1\" class=\"dataframe\">\n",
       "  <thead>\n",
       "    <tr style=\"text-align: right;\">\n",
       "      <th></th>\n",
       "      <th>Season</th>\n",
       "      <th>Age</th>\n",
       "      <th>Foreign</th>\n",
       "      <th>Multinational</th>\n",
       "      <th>Market Value</th>\n",
       "    </tr>\n",
       "  </thead>\n",
       "  <tbody>\n",
       "    <tr>\n",
       "      <th>count</th>\n",
       "      <td>4778.000000</td>\n",
       "      <td>4778.000000</td>\n",
       "      <td>4778.000000</td>\n",
       "      <td>4778.000000</td>\n",
       "      <td>4.778000e+03</td>\n",
       "    </tr>\n",
       "    <tr>\n",
       "      <th>mean</th>\n",
       "      <td>2010.989535</td>\n",
       "      <td>25.520301</td>\n",
       "      <td>0.501884</td>\n",
       "      <td>0.278778</td>\n",
       "      <td>1.721085e+06</td>\n",
       "    </tr>\n",
       "    <tr>\n",
       "      <th>std</th>\n",
       "      <td>2.582265</td>\n",
       "      <td>4.093131</td>\n",
       "      <td>0.500049</td>\n",
       "      <td>0.448445</td>\n",
       "      <td>2.231122e+06</td>\n",
       "    </tr>\n",
       "    <tr>\n",
       "      <th>min</th>\n",
       "      <td>2007.000000</td>\n",
       "      <td>14.000000</td>\n",
       "      <td>0.000000</td>\n",
       "      <td>0.000000</td>\n",
       "      <td>2.500000e+04</td>\n",
       "    </tr>\n",
       "    <tr>\n",
       "      <th>25%</th>\n",
       "      <td>2009.000000</td>\n",
       "      <td>23.000000</td>\n",
       "      <td>0.000000</td>\n",
       "      <td>0.000000</td>\n",
       "      <td>4.500000e+05</td>\n",
       "    </tr>\n",
       "    <tr>\n",
       "      <th>50%</th>\n",
       "      <td>2011.000000</td>\n",
       "      <td>26.000000</td>\n",
       "      <td>1.000000</td>\n",
       "      <td>0.000000</td>\n",
       "      <td>1.000000e+06</td>\n",
       "    </tr>\n",
       "    <tr>\n",
       "      <th>75%</th>\n",
       "      <td>2013.000000</td>\n",
       "      <td>28.000000</td>\n",
       "      <td>1.000000</td>\n",
       "      <td>1.000000</td>\n",
       "      <td>2.000000e+06</td>\n",
       "    </tr>\n",
       "    <tr>\n",
       "      <th>max</th>\n",
       "      <td>2015.000000</td>\n",
       "      <td>38.000000</td>\n",
       "      <td>1.000000</td>\n",
       "      <td>1.000000</td>\n",
       "      <td>3.200000e+07</td>\n",
       "    </tr>\n",
       "  </tbody>\n",
       "</table>\n",
       "</div>"
      ],
      "text/plain": [
       "            Season          Age      Foreign  Multinational  Market Value\n",
       "count  4778.000000  4778.000000  4778.000000    4778.000000  4.778000e+03\n",
       "mean   2010.989535    25.520301     0.501884       0.278778  1.721085e+06\n",
       "std       2.582265     4.093131     0.500049       0.448445  2.231122e+06\n",
       "min    2007.000000    14.000000     0.000000       0.000000  2.500000e+04\n",
       "25%    2009.000000    23.000000     0.000000       0.000000  4.500000e+05\n",
       "50%    2011.000000    26.000000     1.000000       0.000000  1.000000e+06\n",
       "75%    2013.000000    28.000000     1.000000       1.000000  2.000000e+06\n",
       "max    2015.000000    38.000000     1.000000       1.000000  3.200000e+07"
      ]
     },
     "execution_count": 39,
     "metadata": {},
     "output_type": "execute_result"
    }
   ],
   "source": [
    "dataFrame.describe()"
   ]
  },
  {
   "cell_type": "code",
   "execution_count": 40,
   "id": "e1888a49",
   "metadata": {},
   "outputs": [
    {
     "name": "stdout",
     "output_type": "stream",
     "text": [
      "<class 'pandas.core.frame.DataFrame'>\n",
      "RangeIndex: 4778 entries, 0 to 4777\n",
      "Data columns (total 8 columns):\n",
      " #   Column         Non-Null Count  Dtype \n",
      "---  ------         --------------  ----- \n",
      " 0   Season         4778 non-null   int64 \n",
      " 1   Club           4778 non-null   object\n",
      " 2   Player         4778 non-null   object\n",
      " 3   Age            4778 non-null   int64 \n",
      " 4   Foreign        4778 non-null   int64 \n",
      " 5   Nationality    4778 non-null   object\n",
      " 6   Multinational  4778 non-null   int64 \n",
      " 7   Market Value   4778 non-null   int64 \n",
      "dtypes: int64(5), object(3)\n",
      "memory usage: 298.8+ KB\n"
     ]
    }
   ],
   "source": [
    "dataFrame.info()"
   ]
  },
  {
   "cell_type": "code",
   "execution_count": 41,
   "id": "a6331ebc",
   "metadata": {},
   "outputs": [
    {
     "data": {
      "text/plain": [
       "Season           0\n",
       "Club             0\n",
       "Player           0\n",
       "Age              0\n",
       "Foreign          0\n",
       "Nationality      0\n",
       "Multinational    0\n",
       "Market Value     0\n",
       "dtype: int64"
      ]
     },
     "execution_count": 41,
     "metadata": {},
     "output_type": "execute_result"
    }
   ],
   "source": [
    "dataFrame.isnull().sum()"
   ]
  },
  {
   "cell_type": "code",
   "execution_count": 62,
   "id": "9ed4158f",
   "metadata": {},
   "outputs": [],
   "source": [
    "contacteddata = pd.concat([dataFrame.iloc[:,3:4],dataFrame.iloc[:,4:5],dataFrame.iloc[:,6:7],dataFrame.iloc[:,7:8]],axis = 1)"
   ]
  },
  {
   "cell_type": "code",
   "execution_count": 68,
   "id": "3395187e",
   "metadata": {},
   "outputs": [
    {
     "data": {
      "text/plain": [
       "<AxesSubplot:>"
      ]
     },
     "execution_count": 68,
     "metadata": {},
     "output_type": "execute_result"
    },
    {
     "data": {
      "image/png": "[encoded data removed]",
      "text/plain": [
       "<Figure size 432x288 with 2 Axes>"
      ]
     },
     "metadata": {
      "needs_background": "light"
     },
     "output_type": "display_data"
    }
   ],
   "source": [
    "sns.heatmap(contacteddata,cmap =\"RdYlGn\" ,robust='False')"
   ]
  },
  {
   "cell_type": "code",
   "execution_count": null,
   "id": "dd46eeaa",
   "metadata": {},
   "outputs": [],
   "source": []
  }
 ],
 "metadata": {
  "kernelspec": {
   "display_name": "Python 3 (ipykernel)",
   "language": "python",
   "name": "python3"
  },
  "language_info": {
   "codemirror_mode": {
    "name": "ipython",
    "version": 3
   },
   "file_extension": ".py",
   "mimetype": "text/x-python",
   "name": "python",
   "nbconvert_exporter": "python",
   "pygments_lexer": "ipython3",
   "version": "3.9.12"
  }
 },
 "nbformat": 4,
 "nbformat_minor": 5
}
